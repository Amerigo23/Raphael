{
 "cells": [
  {
   "cell_type": "code",
   "execution_count": null,
   "metadata": {},
   "outputs": [],
   "source": [
    "import numpy as np\n",
    "import matplotlib.pyplot as plt\n",
    "from sklearn.model_selection import train_test_split, learning_curve\n",
    "from sklearn.preprocessing import StandardScaler\n",
    "from sklearn.ensemble import GradientBoostingRegressor\n",
    "from sklearn.pipeline import make_pipeline\n",
    "from sklearn.neural_network import MLPRegressor\n",
    "\n",
    "# Assuming df is your DataFrame and column_order is defined\n",
    "X = df.drop(columns=['pay', 'clinic_outpatient', 'patient_id', 'coinsurance', 'copay', 'deductable', 'net', 'region_mod_unknown'])\n",
    "X = X[column_order]\n",
    "y = df['pay']\n",
    "\n",
    "X_train, X_test, y_train, y_test = train_test_split(X, y, test_size=0.2, random_state=42)\n",
    "\n",
    "pipe_lr = make_pipeline(StandardScaler(), MLPRegressor(hidden_layer_sizes=100,\n",
    "                                                       activation='relu', solver='adam'))\n",
    "\n",
    "train_sizes, train_scores, test_scores = learning_curve(estimator=pipe_lr, X=X_train, y=y_train, train_sizes=np.linspace(0.1, 1.0, 10), cv=10, n_jobs=1)\n",
    "\n",
    "train_mean = np.mean(train_scores, axis=1)\n",
    "train_std = np.std(train_scores, axis=1)\n",
    "test_mean = np.mean(test_scores, axis=1)\n",
    "test_std = np.std(test_scores, axis=1)\n",
    "\n",
    "plt.plot(train_sizes, train_mean, color='blue', marker='o', markersize=5, label='Training score')\n",
    "plt.fill_between(train_sizes, train_mean - train_std, train_mean + train_std, color='blue', alpha=0.15)\n",
    "plt.plot(train_sizes, test_mean, color='green', linestyle='--', marker='s', markersize=5, label='Validation score')\n",
    "plt.fill_between(train_sizes, test_mean - test_std, test_mean + test_std, color='green', alpha=0.15)\n",
    "\n",
    "plt.grid()\n",
    "plt.xlabel('Number of training examples')\n",
    "plt.ylabel('Score')\n",
    "plt.legend(loc='lower right')\n",
    "plt.show()"
   ]
  },
  {
   "cell_type": "code",
   "execution_count": null,
   "metadata": {},
   "outputs": [],
   "source": [
    "y_pred = pipe_lr.predict(X_test)\n",
    "test_acc = pipe_lr.score(X_test, y_test)\n",
    "print(f'Test accuracy: {test_acc:.3f}')"
   ]
  },
  {
   "cell_type": "code",
   "execution_count": null,
   "metadata": {},
   "outputs": [],
   "source": [
    "wes_palette = [\"#F1BB7B\", \"#FD6467\", \"#5B1A18\", \"#D67236\"]  # Replace with your chosen colors\n",
    "\n",
    "plt.figure(figsize=(12, 9))\n",
    "plt.title('Age vs Charge - A Comparison of Payment by Age', fontsize=16, pad=20)\n",
    "sns.barplot(x='age_years', y='pay', data=df, palette=wes_palette)\n",
    "plt.xlabel('Age (Years)', fontsize=12)\n",
    "plt.ylabel('Payment Amount', fontsize=12)\n",
    "plt.xticks(rotation=45)\n",
    "plt.tick_params(axis='both', which='major', labelsize=10)\n",
    "plt.grid(axis='y', linestyle='-', alpha=0.7)\n",
    "\n",
    "plt.tight_layout()"
   ]
  },
  {
   "cell_type": "code",
   "execution_count": null,
   "metadata": {},
   "outputs": [],
   "source": [
    "wes_palette = [\"#F1BB7B\", \"#FD6467\", \"#5B1A18\", \"#D67236\"]  # Replace with your chosen colors\n",
    "\n",
    "plt.figure(figsize=(12, 9))\n",
    "plt.title('Age vs Charge - A Comparison of Payment by Age', fontsize=16, pad=20)\n",
    "sns.barplot(x='age_years', y='pay', data=df, palette=wes_palette)\n",
    "plt.xlabel('Age (Years)', fontsize=12)\n",
    "plt.ylabel('Payment Amount', fontsize=12)\n",
    "plt.xticks(rotation=45)\n",
    "plt.tick_params(axis='both', which='major', labelsize=10)\n",
    "plt.grid(axis='y', linestyle='-', alpha=0.7)\n",
    "\n",
    "plt.tight_layout()"
   ]
  },
  {
   "cell_type": "code",
   "execution_count": null,
   "metadata": {},
   "outputs": [],
   "source": [
    "wes_palette = [\"#F1BB7B\", \"#FD6467\", \"#5B1A18\", \"#D67236\"]  # Replace with your chosen colors\n",
    "new_region_names = ['Northcentral', 'Northeast', 'South', 'West']\n",
    "plt.figure(figsize=(12, 9))\n",
    "plt.title('Region vs Charge - A Comparison of Payment by US Region', fontsize=16, pad=20)\n",
    "sns.barplot(x='region_mod', y='pay', data=df, palette=wes_palette)\n",
    "plt.xlabel('Region', fontsize=12)\n",
    "plt.ylabel('Payment Amount (k$)', fontsize=12)\n",
    "plt.xticks(rotation=45)\n",
    "plt.tick_params(axis='both', which='major', labelsize=10)\n",
    "plt.xticks(ticks=range(len(new_region_names)), labels=new_region_names, rotation=45)\n",
    "plt.grid(axis='y', linestyle='-', alpha=0.7)\n",
    "\n",
    "plt.grid(axis='y', linestyle='-', alpha=0.7)\n",
    "\n",
    "plt.tight_layout()"
   ]
  }
 ],
 "metadata": {
  "language_info": {
   "name": "python"
  }
 },
 "nbformat": 4,
 "nbformat_minor": 2
}
